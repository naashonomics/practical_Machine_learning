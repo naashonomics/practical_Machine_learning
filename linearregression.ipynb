{
 "cells": [
  {
   "cell_type": "code",
   "execution_count": 38,
   "metadata": {
    "scrolled": true
   },
   "outputs": [
    {
     "name": "stdout",
     "output_type": "stream",
     "text": [
      "Linear Regression Accuracy:\n",
      "0.996386894023\n",
      "SVM Accuracy:\n",
      "0.693369182307\n"
     ]
    }
   ],
   "source": [
    "#The goal is to take continuous data, find the equation that best fits the data, and be able forecast out a specific value. \n",
    "#With simple linear regression, you are just simply doing this by creating a best fit line \n",
    "import quandl\n",
    "import pandas as pd\n",
    "import math\n",
    "import numpy as np\n",
    "from sklearn import preprocessing, cross_validation, svm\n",
    "#preprocessing: scaling features between -1 and +1\n",
    "#cross_validation: Creating trading and testing samples (shufle data to avoid baised sample)\n",
    "#SVM: Regression method \n",
    "from sklearn.linear_model import LinearRegression\n",
    "df = quandl.get(\"WIKI/GOOGL\")\n",
    "df = df[['Adj. Open',  'Adj. High',  'Adj. Low',  'Adj. Close', 'Adj. Volume']]\n",
    "df['HL_PCT'] = (df['Adj. High'] - df['Adj. Low']) / df['Adj. Close'] * 100.0\n",
    "df['PCT_change'] = (df['Adj. Close'] - df['Adj. Open']) / df['Adj. Open'] * 100.0\n",
    "df = df[['Adj. Close', 'HL_PCT', 'PCT_change', 'Adj. Volume']]\n",
    "#same can be used for any dataset \n",
    "forecast_col='Adj. Close'\n",
    "#na cannot be used for ML replacing it with -9999 \n",
    "df.fillna(-9999,inplace=True)\n",
    "#using data from  day ago to predict tomorrow's price \n",
    "forecast_out=int(math.ceil(0.001*len(df)))\n",
    "# forecast price will be adjusted close int(math.ceil(0.01*len(df))) days into future \n",
    "df['forecast_price']=df[forecast_col].shift(-forecast_out)\n",
    "df.dropna(inplace=True)\n",
    "X=np.array(df.drop(['forecast_price'],1))\n",
    "Y=np.array(df['forecast_price'])\n",
    "#skip for high freqency trading \n",
    "X=preprocessing.scale(X)\n",
    "df.dropna(inplace=True)\n",
    "Y=np.array(df['forecast_price'])\n",
    "#why we need to train and test on seperate data? \n",
    "# if you train a classifer on same data you test it's more like assignment question poping up on your finals \n",
    "X_train, X_test, Y_train, Y_test = cross_validation.train_test_split(X, Y, test_size=0.2)\n",
    "#classifer type defualt n_jobs=1\n",
    "clf=LinearRegression(n_jobs=10)\n",
    "clf.fit(X_train,Y_train)\n",
    "accuracy=clf.score(X_test,Y_test)\n",
    "#for Linear Regression accuracy is sqrt(error)\n",
    "print(\"Linear Regression Accuracy:\")\n",
    "print(accuracy)\n",
    "\n",
    "#with SVM by default SVM is linear \n",
    "clf=svm.SVR(kernel='poly')\n",
    "clf.fit(X_train,Y_train)\n",
    "accuracy=clf.score(X_test,Y_test)\n",
    "print(\"SVM Accuracy:\")\n",
    "print(accuracy)\n"
   ]
  },
  {
   "cell_type": "code",
   "execution_count": null,
   "metadata": {
    "collapsed": true
   },
   "outputs": [],
   "source": []
  }
 ],
 "metadata": {
  "kernelspec": {
   "display_name": "Python [conda env:avinpy35]",
   "language": "python",
   "name": "conda-env-avinpy35-py"
  },
  "language_info": {
   "codemirror_mode": {
    "name": "ipython",
    "version": 3
   },
   "file_extension": ".py",
   "mimetype": "text/x-python",
   "name": "python",
   "nbconvert_exporter": "python",
   "pygments_lexer": "ipython3",
   "version": "3.5.4"
  }
 },
 "nbformat": 4,
 "nbformat_minor": 2
}
